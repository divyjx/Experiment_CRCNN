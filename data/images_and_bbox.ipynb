{
 "cells": [
  {
   "cell_type": "code",
   "execution_count": 5,
   "metadata": {},
   "outputs": [],
   "source": [
    "%matplotlib inline\n",
    "from pycocotools.coco import COCO\n",
    "import numpy as np\n",
    "\n",
    "# import skimage.io as io\n",
    "import matplotlib.pyplot as plt\n",
    "\n",
    "from PIL import Image, ImageFont, ImageDraw, ImageEnhance\n",
    "\n"
   ]
  },
  {
   "cell_type": "code",
   "execution_count": 6,
   "metadata": {},
   "outputs": [
    {
     "name": "stderr",
     "output_type": "stream",
     "text": [
      "ls: ../_data/eccv_18_annotation_files/: No such file or directory\n"
     ]
    }
   ],
   "source": [
    "!ls ../_data/eccv_18_annotation_files/"
   ]
  },
  {
   "cell_type": "code",
   "execution_count": 7,
   "metadata": {},
   "outputs": [],
   "source": [
    "annos = [\"cis_test\",\"trans_test\",\"cis_val\",\"trans_val\",\"train\"]\n",
    "atype = \"train\"\n",
    "imgDir = '../_data/eccv_18_all_images_sm/'\n",
    "annFile = '../_data/eccv_18_all_images_sm/%s_annotations.json'\n"
   ]
  },
  {
   "cell_type": "code",
   "execution_count": 8,
   "metadata": {},
   "outputs": [
    {
     "name": "stdout",
     "output_type": "stream",
     "text": [
      "loading annotations into memory...\n",
      "Done (t=0.36s)\n",
      "creating index...\n",
      "index created!\n"
     ]
    }
   ],
   "source": [
    "coco = COCO(annFile % 'trans_test')"
   ]
  },
  {
   "cell_type": "code",
   "execution_count": 9,
   "metadata": {},
   "outputs": [
    {
     "name": "stdout",
     "output_type": "stream",
     "text": [
      "{'bbox': [1546.24, 1162.24, 496.6400000000001, 320.0],\n",
      " 'category_id': 16,\n",
      " 'id': '4848',\n",
      " 'image_id': '5a27d8d5-23d2-11e8-a6a3-ec086b02610b'}\n"
     ]
    }
   ],
   "source": [
    "from pprint import pprint\n",
    "for key in coco.anns.keys():\n",
    "    pprint(coco.anns[key])\n",
    "    break"
   ]
  },
  {
   "cell_type": "code",
   "execution_count": 12,
   "metadata": {},
   "outputs": [],
   "source": [
    "aid = coco.getAnnIds()[:10]\n",
    "# coco.showAnns()\n",
    "anns = coco.loadAnns(aid)\n"
   ]
  },
  {
   "cell_type": "code",
   "execution_count": 14,
   "metadata": {},
   "outputs": [
    {
     "ename": "Exception",
     "evalue": "datasetType not supported",
     "output_type": "error",
     "traceback": [
      "\u001b[1;31m---------------------------------------------------------------------------\u001b[0m",
      "\u001b[1;31mException\u001b[0m                                 Traceback (most recent call last)",
      "Cell \u001b[1;32mIn[14], line 1\u001b[0m\n\u001b[1;32m----> 1\u001b[0m \u001b[43mcoco\u001b[49m\u001b[38;5;241;43m.\u001b[39;49m\u001b[43mshowAnns\u001b[49m\u001b[43m(\u001b[49m\u001b[43manns\u001b[49m\u001b[43m)\u001b[49m\n",
      "File \u001b[1;32mc:\\Users\\djmeg\\miniconda3\\envs\\env\\Lib\\site-packages\\pycocotools\\coco.py:244\u001b[0m, in \u001b[0;36mCOCO.showAnns\u001b[1;34m(self, anns, draw_bbox)\u001b[0m\n\u001b[0;32m    242\u001b[0m     datasetType \u001b[38;5;241m=\u001b[39m \u001b[38;5;124m'\u001b[39m\u001b[38;5;124mcaptions\u001b[39m\u001b[38;5;124m'\u001b[39m\n\u001b[0;32m    243\u001b[0m \u001b[38;5;28;01melse\u001b[39;00m:\n\u001b[1;32m--> 244\u001b[0m     \u001b[38;5;28;01mraise\u001b[39;00m \u001b[38;5;167;01mException\u001b[39;00m(\u001b[38;5;124m'\u001b[39m\u001b[38;5;124mdatasetType not supported\u001b[39m\u001b[38;5;124m'\u001b[39m)\n\u001b[0;32m    245\u001b[0m \u001b[38;5;28;01mif\u001b[39;00m datasetType \u001b[38;5;241m==\u001b[39m \u001b[38;5;124m'\u001b[39m\u001b[38;5;124minstances\u001b[39m\u001b[38;5;124m'\u001b[39m:\n\u001b[0;32m    246\u001b[0m     \u001b[38;5;28;01mimport\u001b[39;00m \u001b[38;5;21;01mmatplotlib\u001b[39;00m\u001b[38;5;21;01m.\u001b[39;00m\u001b[38;5;21;01mpyplot\u001b[39;00m \u001b[38;5;28;01mas\u001b[39;00m \u001b[38;5;21;01mplt\u001b[39;00m\n",
      "\u001b[1;31mException\u001b[0m: datasetType not supported"
     ]
    }
   ],
   "source": [
    "coco.showAnns(anns)"
   ]
  },
  {
   "cell_type": "code",
   "execution_count": null,
   "metadata": {},
   "outputs": [
    {
     "name": "stdout",
     "output_type": "stream",
     "text": [
      "{'bbox': [1546.24, 1162.24, 496.6400000000001, 320.0],\n",
      " 'category_id': 16,\n",
      " 'id': '4848',\n",
      " 'image_id': '5a27d8d5-23d2-11e8-a6a3-ec086b02610b'}\n"
     ]
    }
   ],
   "source": [
    "from pprint import pprint\n",
    "for key in coco.anns.keys():\n",
    "    pprint(coco.anns[key])\n",
    "    break"
   ]
  },
  {
   "cell_type": "code",
   "execution_count": null,
   "metadata": {},
   "outputs": [
    {
     "data": {
      "text/plain": [
       "[6, 1, 30, 9, 3]"
      ]
     },
     "execution_count": 37,
     "metadata": {},
     "output_type": "execute_result"
    }
   ],
   "source": [
    "coco.getCatIds()[:5]"
   ]
  },
  {
   "cell_type": "code",
   "execution_count": null,
   "metadata": {},
   "outputs": [
    {
     "data": {
      "text/plain": [
       "[{'id': 6, 'name': 'bobcat'},\n",
       " {'id': 1, 'name': 'opossum'},\n",
       " {'id': 30, 'name': 'empty'},\n",
       " {'id': 9, 'name': 'coyote'},\n",
       " {'id': 3, 'name': 'raccoon'}]"
      ]
     },
     "execution_count": 38,
     "metadata": {},
     "output_type": "execute_result"
    }
   ],
   "source": [
    "coco.loadCats(coco.getCatIds())[:5]"
   ]
  },
  {
   "cell_type": "code",
   "execution_count": null,
   "metadata": {},
   "outputs": [
    {
     "name": "stdout",
     "output_type": "stream",
     "text": [
      "COCO categories: \n",
      "bobcat opossum empty coyote raccoon bird dog cat squirrel rabbit skunk rodent badger deer car fox\n",
      "\n"
     ]
    }
   ],
   "source": [
    "\n",
    "cats = coco.loadCats(coco.getCatIds())\n",
    "nms=[cat['name'] for cat in cats]\n",
    "print('COCO categories: \\n{}\\n'.format(' '.join(nms)))\n",
    "\n",
    "# nms = set([cat['supercategory'] for cat in cats])\n",
    "# print('COCO supercategories: \\n{}'.format(' '.join(nms)))"
   ]
  },
  {
   "cell_type": "code",
   "execution_count": null,
   "metadata": {},
   "outputs": [],
   "source": []
  },
  {
   "cell_type": "code",
   "execution_count": null,
   "metadata": {},
   "outputs": [
    {
     "data": {
      "text/plain": [
       "[{'image_id': '5a1cb0d8-23d2-11e8-a6a3-ec086b02610b',\n",
       "  'category_id': 1,\n",
       "  'bbox': [1149.44, 506.88, 158.72000000000003, 194.56000000000006],\n",
       "  'id': '24715'}]"
      ]
     },
     "execution_count": 84,
     "metadata": {},
     "output_type": "execute_result"
    }
   ],
   "source": [
    "anns"
   ]
  },
  {
   "cell_type": "code",
   "execution_count": null,
   "metadata": {},
   "outputs": [
    {
     "data": {
      "text/plain": [
       "{'file_name': '59f5fd4c-23d2-11e8-a6a3-ec086b02610b.jpg',\n",
       " 'rights_holder': 'Justin Brown',\n",
       " 'height': 1494,\n",
       " 'width': 2048,\n",
       " 'frame_num': 1,\n",
       " 'date_captured': '2011-06-30 20:35:17',\n",
       " 'location': 7,\n",
       " 'seq_num_frames': 3,\n",
       " 'seq_id': '6f06d7f0-5567-11e8-a464-dca9047ef277',\n",
       " 'id': '59f5fd4c-23d2-11e8-a6a3-ec086b02610b'}"
      ]
     },
     "execution_count": 51,
     "metadata": {},
     "output_type": "execute_result"
    }
   ],
   "source": [
    "im"
   ]
  },
  {
   "cell_type": "code",
   "execution_count": 3,
   "metadata": {},
   "outputs": [
    {
     "name": "stdout",
     "output_type": "stream",
     "text": [
      "Requirement already satisfied: opencv-python in /opt/conda/envs/env/lib/python3.12/site-packages (4.10.0.84)\n",
      "Requirement already satisfied: numpy>=1.21.2 in /home/codespace/.local/lib/python3.12/site-packages (from opencv-python) (2.1.1)\n"
     ]
    }
   ],
   "source": [
    "!pip install opencv-python"
   ]
  },
  {
   "cell_type": "code",
   "execution_count": 15,
   "metadata": {},
   "outputs": [
    {
     "name": "stdout",
     "output_type": "stream",
     "text": [
      "loading annotations into memory...\n",
      "Done (t=0.05s)\n",
      "creating index...\n",
      "index created!\n"
     ]
    }
   ],
   "source": [
    "import matplotlib.pyplot as plt\n",
    "# import cv2\n",
    "import numpy as np\n",
    "from pycocotools.coco import COCO\n",
    "from PIL import Image, ImageDraw\n",
    "\n",
    "# Path to your COCO annotation file and images directory\n",
    "annos = [\"cis_test\",\"trans_test\",\"cis_val\",\"trans_val\",\"train\"]\n",
    "atype = \"train\"\n",
    "imgDir = '../_data/eccv_18_all_images_sm/'\n",
    "annFile = '../_data/eccv_18_all_images_sm/%s_annotations.json'\n",
    "# Initialize COCO API\n",
    "coco = COCO(annFile % 'train')\n",
    "\n",
    "# selected_img_ids = coco.getImgIds()[:5]  # Example: first 5 image IDs\n",
    "# color_list = plt.cm.get_cmap(\"tab20\", 20).colors  # 20 color options for classes\n",
    "\n",
    "# # Set up the plot with subplots\n",
    "# fig, ax = plt.subplots(1, len(selected_img_ids), figsize=(15, 15))\n",
    "\n",
    "# # Iterate through selected images\n",
    "# for i, im in enumerate(selected_img_ids):\n",
    "#     image = Image.open(f\"{imgDir}{str(im)}.jpg\")\n",
    "#     ax[i].imshow(image)\n",
    "#     ax[i].axis('off')  # Hide axes\n",
    "\n",
    "#     # Get annotations for the image\n",
    "#     ann_ids = coco.getAnnIds(imgIds=im)\n",
    "#     annotations = coco.loadAnns(ann_ids)\n",
    "\n",
    "#     for ann in annotations:\n",
    "#         bbox = ann['bbox']\n",
    "#         # Convert to int coordinates for bounding box\n",
    "#         x, y, w, h = [int(coord) for coord in bbox]\n",
    "\n",
    "#         # Get class ID and name\n",
    "#         class_id = ann[\"category_id\"]\n",
    "#         class_name = coco.loadCats(class_id)[0][\"name\"]\n",
    "\n",
    "#         # Color for the bounding box\n",
    "#         color_ = color_list[class_id % len(color_list)]  # Ensure the index is within color range\n",
    "\n",
    "#         # Draw bounding box\n",
    "#         rect = plt.Rectangle((x, y), w, h, linewidth=2, edgecolor=color_, facecolor='none')\n",
    "#         ax[i].add_patch(rect)\n",
    "\n",
    "#         # Draw class name text\n",
    "#         t_box = ax[i].text(x, y, class_name, color='red', fontsize=10)\n",
    "#         t_box.set_bbox(dict(boxstyle='square,pad=0', facecolor='white', alpha=0.6, edgecolor='blue'))\n",
    "\n",
    "# # Show the final plot\n",
    "# plt.tight_layout()\n",
    "# plt.show()"
   ]
  },
  {
   "cell_type": "code",
   "execution_count": 16,
   "metadata": {},
   "outputs": [
    {
     "data": {
      "text/plain": [
       "'59ffbb81-23d2-11e8-a6a3-ec086b02610b'"
      ]
     },
     "execution_count": 16,
     "metadata": {},
     "output_type": "execute_result"
    }
   ],
   "source": [
    "str(im)"
   ]
  },
  {
   "cell_type": "code",
   "execution_count": 79,
   "metadata": {},
   "outputs": [
    {
     "name": "stdout",
     "output_type": "stream",
     "text": [
      "loading annotations into memory...\n",
      "Done (t=0.03s)\n",
      "creating index...\n",
      "index created!\n",
      "loading annotations into memory...\n",
      "Done (t=0.16s)\n",
      "creating index...\n",
      "index created!\n",
      "(747, 1024, 3)\n",
      "[{'image_id': '59c66951-23d2-11e8-a6a3-ec086b02610b', 'category_id': 1, 'bbox': [371.2, 1067.52, 547.8399999999999, 207.3599999999999], 'id': '10680'}]\n",
      "{'image_id': '59c66951-23d2-11e8-a6a3-ec086b02610b', 'category_id': 1, 'bbox': [371.2, 1067.52, 547.8399999999999, 207.3599999999999], 'id': '10680'}\n",
      "371 1067 547 207 2048 1494 1024 747\n",
      "opossum\n"
     ]
    }
   ],
   "source": [
    "import matplotlib.pyplot as plt\n",
    "from PIL import Image\n",
    "import numpy as np\n",
    "import cv2\n",
    "from pycocotools.coco import COCO\n",
    "\n",
    "# Path to your COCO annotation file and images directory\n",
    "imgDir = '../_data/eccv_18_all_images_sm/'\n",
    "annFile = '../_data/eccv_18_all_images_sm/%s_annotations.json'\n",
    "atype = \"trans_val\"  # Change to the appropriate type (train, val, etc.)\n",
    "\n",
    "# Initialize COCO API\n",
    "coco = COCO(annFile % atype)\n",
    "\n",
    "# Define a list of colors for drawing bounding boxes\n",
    "color_list = [\"pink\", \"red\", \"teal\", \"blue\", \"orange\", \"yellow\", \"black\", \"magenta\", \"green\", \"aqua\"] * 10\n",
    "\n",
    "# Choose a single image ID (you can set this manually or choose randomly)\n",
    "img_ids = coco.getImgIds()\n",
    "selected_img_id = img_ids[0]  # Example: selecting the first image\n",
    "\n",
    "# Get annotations for the selected image\n",
    "ann_ids = coco.getAnnIds([selected_img_id])\n",
    "# print(ann_ids)\n",
    "annotations = coco.loadAnns(ann_ids)\n",
    "\n",
    "# Load the image\n",
    "import matplotlib.pyplot as plt\n",
    "from PIL import Image\n",
    "import numpy as np\n",
    "import cv2\n",
    "from pycocotools.coco import COCO\n",
    "\n",
    "# Path to your COCO annotation file and images directory\n",
    "imgDir = '../_data/eccv_18_all_images_sm/'\n",
    "annFile = '../_data/eccv_18_all_images_sm/%s_annotations.json'\n",
    "atype = \"train\"  # Change to the appropriate type (train, val, etc.)\n",
    "\n",
    "# Initialize COCO API\n",
    "coco = COCO(annFile % atype)\n",
    "\n",
    "# Define a list of colors for drawing bounding boxes\n",
    "color_list = [\"pink\", \"red\", \"teal\", \"blue\", \"orange\", \"yellow\", \"black\", \"magenta\", \"green\", \"aqua\"] * 10\n",
    "\n",
    "# Choose a single image ID (you can set this manually or choose randomly)\n",
    "img_ids = coco.getImgIds()\n",
    "selected_img_id = img_ids[np.random.randint(10000)]  # Example: selecting the first image\n",
    "\n",
    "# Get annotations for the selected image\n",
    "ann_ids = coco.getAnnIds([selected_img_id])\n",
    "# print(ann_ids)\n",
    "annotations = coco.loadAnns(ann_ids)\n",
    "\n",
    "# Load the image\n",
    "image = cv2.imread(f\"{imgDir}{str(selected_img_id)}.jpg\")\n",
    "print(image.shape)\n",
    "# Create the plot for a single image\n",
    "# fig, ax = plt.subplots()\n",
    "print(annotations)\n",
    "im_h = coco.loadImgs([selected_img_id])[0]['height']\n",
    "im_w = coco.loadImgs([selected_img_id])[0]['width']\n",
    "\n",
    "# Loop through annotations and draw bounding boxes\n",
    "ih, iw = image.shape[:-1]\n",
    "for ann in annotations:\n",
    "    # Ensure there is a bounding box\n",
    "    print(ann)\n",
    "    if 'bbox' in ann:\n",
    "        \n",
    "        x, y, w, h = map(int, ann['bbox'])  # Convert bbox to integers\n",
    "        class_id = ann[\"category_id\"]\n",
    "        class_name = coco.loadCats(class_id)[0][\"name\"]\n",
    "        print(x, y, w, h, im_w,im_h, iw, ih)\n",
    "        \n",
    "        # \n",
    "        \n",
    "        sh = ih / im_h\n",
    "        sw  = iw / im_w\n",
    "        x *= sw\n",
    "        y *= sh\n",
    "        h *= sh\n",
    "        w *= sw\n",
    "        \n",
    "        x = int(x)\n",
    "        y = int(y)\n",
    "        w = int(w)\n",
    "        h = int(h)\n",
    "        print(class_name)\n",
    "        # print(x, y, w, h, im_w,im_h, iw, ih)\n",
    "        \n",
    "        cv2.rectangle(image, (x, y), (x + w, y+ h), (255, 0, 0), 5)\n",
    "        \n",
    "        # Optionally, add text (class name) above the bounding box\n",
    "        cv2.putText(image, class_name, (x, y), cv2.FONT_HERSHEY_SIMPLEX, 0.9, (255, 0, 0), 2)\n",
    "\n",
    "\n",
    "cv2.imshow(class_name,image)\n",
    "        # rect = plt.Rectangle((x , y), w, h, linewidth=2, edgecolor='red')\n",
    "        # ax.add_patch(rect)\n",
    "\n",
    "        # # Add class name text\n",
    "        # ax.text(x, y, class_name, color='red', fontsize=10, bbox=dict(facecolor='white', alpha=0.6))\n",
    "\n",
    "# Display the image with bounding boxes\n",
    "# ax.imshow(image)\n",
    "# ax.axis('off')  # Hide axes\n",
    "# ax.set_title(f\"Image ID: {selected_img_id}\")\n",
    "\n",
    "# Show the plot\n",
    "# plt.tight_layout()\n",
    "# plt.show()\n",
    "cv2.waitKey(0)\n",
    "cv2.destroyAllWindows()"
   ]
  },
  {
   "cell_type": "code",
   "execution_count": null,
   "metadata": {},
   "outputs": [],
   "source": []
  }
 ],
 "metadata": {
  "kernelspec": {
   "display_name": "env",
   "language": "python",
   "name": "python3"
  },
  "language_info": {
   "codemirror_mode": {
    "name": "ipython",
    "version": 3
   },
   "file_extension": ".py",
   "mimetype": "text/x-python",
   "name": "python",
   "nbconvert_exporter": "python",
   "pygments_lexer": "ipython3",
   "version": "3.12.7"
  }
 },
 "nbformat": 4,
 "nbformat_minor": 2
}
