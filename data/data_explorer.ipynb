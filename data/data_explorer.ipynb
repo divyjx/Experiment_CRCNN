{
 "cells": [
  {
   "cell_type": "code",
   "execution_count": 48,
   "metadata": {},
   "outputs": [],
   "source": [
    "import torch \n",
    "import matplotlib.pyplot as plt\n",
    "import numpy as np\n",
    "import json\n",
    "import pandas as pd\n"
   ]
  },
  {
   "cell_type": "code",
   "execution_count": null,
   "metadata": {},
   "outputs": [],
   "source": [
    "# %%bash \n",
    "# cd ../_data/\n",
    "# rm -rf *\n",
    "# wget https://storage.googleapis.com/public-datasets-lila/caltechcameratraps/eccv_18_all_images_sm.tar.gz\n",
    "# tar -xvzf eccv_18_all_images_sm.tar.gz \n",
    "# wget https://storage.googleapis.com/public-datasets-lila/caltechcameratraps/eccv_18_annotations.tar.gz \n",
    "# tar -xvzf eccv_18_annotations.tar.gz\n",
    "# ls\n",
    "# cd eccv_18_annotation_files\n",
    "# cp * ../eccv_18_all_images_sm/\n",
    "# pwd\n",
    "# wget https://storage.googleapis.com/public-datasets-lila/caltechcameratraps/labels/caltech_camera_traps.json.zip\n",
    "# unzip caltech_camera_traps.json.zip\n",
    "# rm -rf ../_data/*.zip"
   ]
  },
  {
   "cell_type": "code",
   "execution_count": 31,
   "metadata": {},
   "outputs": [],
   "source": [
    "pre = '../_data/eccv_18_annotation_files/'\n",
    "ct = pre + 'cis_test_annotations.json'\n",
    "cv = pre + 'cis_val_annotations.json'\n",
    "tv = pre + 'trans_val_annotations.json'\n",
    "tt = pre + 'trans_test_annotations.json'\n",
    "t = pre  + 'train_annotations.json'"
   ]
  },
  {
   "cell_type": "code",
   "execution_count": 32,
   "metadata": {},
   "outputs": [
    {
     "data": {
      "text/plain": [
       "'../_data/eccv_18_annotation_files/cis_test_annotations.json'"
      ]
     },
     "execution_count": 32,
     "metadata": {},
     "output_type": "execute_result"
    }
   ],
   "source": [
    "ct"
   ]
  },
  {
   "cell_type": "code",
   "execution_count": null,
   "metadata": {},
   "outputs": [],
   "source": [
    "!cat ../_data/eccv_18_annotation_files/cis_test_annotations.json"
   ]
  },
  {
   "cell_type": "code",
   "execution_count": 126,
   "metadata": {},
   "outputs": [
    {
     "data": {
      "text/plain": [
       "(dict_keys(['info', 'categories', 'images', 'annotations']),\n",
       " {'contributor': 'Sara Beery',\n",
       "  'date_created': '2018-07-03 18:34:36.573636',\n",
       "  'version': 'Caltech Camera Traps - ECCV18',\n",
       "  'description': 'Database of camera trap images collected from the NPS and the USGS with help from Justin Brown and Erin Boydston',\n",
       "  'year': 2018},\n",
       " [{'id': 6, 'name': 'bobcat'},\n",
       "  {'id': 1, 'name': 'opossum'},\n",
       "  {'id': 30, 'name': 'empty'},\n",
       "  {'id': 9, 'name': 'coyote'},\n",
       "  {'id': 3, 'name': 'raccoon'},\n",
       "  {'id': 11, 'name': 'bird'},\n",
       "  {'id': 8, 'name': 'dog'},\n",
       "  {'id': 16, 'name': 'cat'},\n",
       "  {'id': 5, 'name': 'squirrel'},\n",
       "  {'id': 10, 'name': 'rabbit'},\n",
       "  {'id': 7, 'name': 'skunk'},\n",
       "  {'id': 99, 'name': 'rodent'},\n",
       "  {'id': 21, 'name': 'badger'},\n",
       "  {'id': 34, 'name': 'deer'},\n",
       "  {'id': 33, 'name': 'car'},\n",
       "  {'id': 51, 'name': 'fox'}])"
      ]
     },
     "execution_count": 126,
     "metadata": {},
     "output_type": "execute_result"
    }
   ],
   "source": [
    "f = open(tv, 'r')\n",
    "data = json.load(f)\n",
    "data.keys(), data['info'], data['categories']"
   ]
  },
  {
   "cell_type": "markdown",
   "metadata": {},
   "source": [
    "# Train "
   ]
  },
  {
   "cell_type": "code",
   "execution_count": 550,
   "metadata": {},
   "outputs": [],
   "source": [
    "f = open(t, 'r')\n",
    "data = json.load(f)"
   ]
  },
  {
   "cell_type": "code",
   "execution_count": 551,
   "metadata": {},
   "outputs": [
    {
     "name": "stdout",
     "output_type": "stream",
     "text": [
      "13553\n",
      "14071\n"
     ]
    }
   ],
   "source": [
    "print(len(data['images']))\n",
    "print(len(data['annotations']))"
   ]
  },
  {
   "cell_type": "code",
   "execution_count": 552,
   "metadata": {},
   "outputs": [
    {
     "name": "stdout",
     "output_type": "stream",
     "text": [
      "location\n",
      "38     4047\n",
      "88     1655\n",
      "115    1497\n",
      "120    1370\n",
      "33     1238\n",
      "43     1215\n",
      "61      993\n",
      "90      586\n",
      "108     538\n",
      "51      414\n",
      "Name: count, dtype: int64\n",
      "rights_holder\n",
      "Justin Brown     12183\n",
      "Erin Boydston     1370\n",
      "Name: count, dtype: int64\n",
      "frame_num\n",
      "1    5473\n",
      "2    4060\n",
      "3    4020\n",
      "Name: count, dtype: int64\n",
      "seq_num_frames\n",
      "3    12183\n",
      "1     1370\n",
      "Name: count, dtype: int64\n",
      "height\n",
      "1494    12183\n",
      "1536     1054\n",
      "1920      316\n",
      "Name: count, dtype: int64\n",
      "width\n",
      "2048    13237\n",
      "2560      316\n",
      "Name: count, dtype: int64\n"
     ]
    }
   ],
   "source": [
    "df_images = pd.DataFrame.from_dict(data['images'])\n",
    "for col in ['location', 'rights_holder', 'frame_num', 'seq_num_frames', 'height', 'width']:\n",
    "    print(df_images[col].value_counts())"
   ]
  },
  {
   "cell_type": "code",
   "execution_count": 131,
   "metadata": {},
   "outputs": [
    {
     "name": "stdout",
     "output_type": "stream",
     "text": [
      "category_id\n",
      "6     858\n",
      "1     444\n",
      "3     143\n",
      "8      96\n",
      "16     72\n",
      "10     70\n",
      "7      63\n",
      "30     61\n",
      "9      51\n",
      "11      7\n",
      "Name: count, dtype: int64 \n",
      " count 10\n"
     ]
    }
   ],
   "source": [
    "df_anno = pd.DataFrame.from_dict(data['annotations'])\n",
    "print(df_anno.category_id.value_counts(dropna=False),  '\\n' , \"count\", len(df_anno.category_id.value_counts(dropna=False)))"
   ]
  },
  {
   "cell_type": "markdown",
   "metadata": {},
   "source": [
    "# Cis Val "
   ]
  },
  {
   "cell_type": "code",
   "execution_count": 554,
   "metadata": {},
   "outputs": [],
   "source": [
    "f = open(cv, 'r')\n",
    "data = json.load(f)"
   ]
  },
  {
   "cell_type": "code",
   "execution_count": 555,
   "metadata": {},
   "outputs": [
    {
     "name": "stdout",
     "output_type": "stream",
     "text": [
      "3484\n",
      "3582\n"
     ]
    }
   ],
   "source": [
    "print(len(data['images']))\n",
    "print(len(data['annotations']))"
   ]
  },
  {
   "cell_type": "code",
   "execution_count": 556,
   "metadata": {},
   "outputs": [
    {
     "name": "stdout",
     "output_type": "stream",
     "text": [
      "location\n",
      "38     799\n",
      "43     520\n",
      "115    491\n",
      "33     473\n",
      "88     352\n",
      "61     277\n",
      "108    180\n",
      "51     165\n",
      "90     131\n",
      "120     96\n",
      "Name: count, dtype: int64\n",
      "rights_holder\n",
      "Justin Brown     3388\n",
      "Erin Boydston      96\n",
      "Name: count, dtype: int64\n",
      "frame_num\n",
      "1    1200\n",
      "3    1161\n",
      "2    1123\n",
      "Name: count, dtype: int64\n",
      "seq_num_frames\n",
      "3    3388\n",
      "1      96\n",
      "Name: count, dtype: int64\n",
      "height\n",
      "1494    3388\n",
      "1536      56\n",
      "1920      40\n",
      "Name: count, dtype: int64\n",
      "width\n",
      "2048    3444\n",
      "2560      40\n",
      "Name: count, dtype: int64\n"
     ]
    }
   ],
   "source": [
    "df_images = pd.DataFrame.from_dict(data['images'])\n",
    "for col in ['location', 'rights_holder', 'frame_num', 'seq_num_frames', 'height', 'width']:\n",
    "    print(df_images[col].value_counts())"
   ]
  },
  {
   "cell_type": "code",
   "execution_count": 557,
   "metadata": {},
   "outputs": [
    {
     "name": "stdout",
     "output_type": "stream",
     "text": [
      "category_id\n",
      "30    995\n",
      "10    518\n",
      "1     496\n",
      "9     306\n",
      "5     224\n",
      "16    192\n",
      "3     174\n",
      "6     154\n",
      "8     148\n",
      "11    144\n",
      "99    143\n",
      "7      43\n",
      "33     41\n",
      "34      3\n",
      "21      1\n",
      "Name: count, dtype: int64 \n",
      " count 15\n"
     ]
    }
   ],
   "source": [
    "df_anno = pd.DataFrame.from_dict(data['annotations'])\n",
    "print(df_anno.category_id.value_counts(dropna=False),  '\\n' , \"count\", len(df_anno.category_id.value_counts(dropna=False)))"
   ]
  },
  {
   "cell_type": "code",
   "execution_count": null,
   "metadata": {},
   "outputs": [],
   "source": []
  },
  {
   "cell_type": "markdown",
   "metadata": {},
   "source": [
    "# Cis Test "
   ]
  },
  {
   "cell_type": "code",
   "execution_count": 558,
   "metadata": {},
   "outputs": [],
   "source": [
    "f = open(ct, 'r')\n",
    "data = json.load(f)"
   ]
  },
  {
   "cell_type": "code",
   "execution_count": 559,
   "metadata": {},
   "outputs": [
    {
     "name": "stdout",
     "output_type": "stream",
     "text": [
      "15827\n",
      "16395\n"
     ]
    }
   ],
   "source": [
    "print(len(data['images']))\n",
    "print(len(data['annotations']))"
   ]
  },
  {
   "cell_type": "code",
   "execution_count": 561,
   "metadata": {},
   "outputs": [
    {
     "name": "stdout",
     "output_type": "stream",
     "text": [
      "location\n",
      "38     4927\n",
      "43     2373\n",
      "33     2286\n",
      "120    1625\n",
      "61     1104\n",
      "88     1093\n",
      "51      940\n",
      "115     785\n",
      "108     404\n",
      "90      290\n",
      "Name: count, dtype: int64\n",
      "rights_holder\n",
      "Justin Brown     14202\n",
      "Erin Boydston     1625\n",
      "Name: count, dtype: int64\n",
      "frame_num\n",
      "1    6375\n",
      "3    4728\n",
      "2    4724\n",
      "Name: count, dtype: int64\n",
      "seq_num_frames\n",
      "3    14202\n",
      "1     1625\n",
      "Name: count, dtype: int64\n",
      "height\n",
      "1494    14202\n",
      "1536     1203\n",
      "1920      422\n",
      "Name: count, dtype: int64\n",
      "width\n",
      "2048    15405\n",
      "2560      422\n",
      "Name: count, dtype: int64\n"
     ]
    }
   ],
   "source": [
    "df_images = pd.DataFrame.from_dict(data['images'])\n",
    "for col in ['location', 'rights_holder', 'frame_num', 'seq_num_frames', 'height', 'width']:\n",
    "    print(df_images[col].value_counts())"
   ]
  },
  {
   "cell_type": "code",
   "execution_count": 562,
   "metadata": {},
   "outputs": [
    {
     "name": "stdout",
     "output_type": "stream",
     "text": [
      "category_id\n",
      "1     4535\n",
      "10    1807\n",
      "16    1672\n",
      "9     1372\n",
      "30    1180\n",
      "3     1103\n",
      "6      909\n",
      "8      895\n",
      "11     865\n",
      "33     791\n",
      "5      666\n",
      "99     236\n",
      "7      194\n",
      "34     164\n",
      "21       4\n",
      "51       2\n",
      "Name: count, dtype: int64\n"
     ]
    }
   ],
   "source": [
    "df_anno = pd.DataFrame.from_dict(data['annotations'])\n",
    "print(df_anno.category_id.value_counts(dropna=False))"
   ]
  },
  {
   "cell_type": "code",
   "execution_count": null,
   "metadata": {},
   "outputs": [],
   "source": []
  },
  {
   "cell_type": "markdown",
   "metadata": {},
   "source": [
    "# TT"
   ]
  },
  {
   "cell_type": "code",
   "execution_count": 563,
   "metadata": {},
   "outputs": [],
   "source": [
    "f = open(tt, 'r')\n",
    "data = json.load(f)"
   ]
  },
  {
   "cell_type": "code",
   "execution_count": 564,
   "metadata": {},
   "outputs": [
    {
     "name": "stdout",
     "output_type": "stream",
     "text": [
      "23275\n",
      "24028\n"
     ]
    }
   ],
   "source": [
    "print(len(data['images']))\n",
    "print(len(data['annotations']))"
   ]
  },
  {
   "cell_type": "code",
   "execution_count": 565,
   "metadata": {},
   "outputs": [
    {
     "name": "stdout",
     "output_type": "stream",
     "text": [
      "location\n",
      "46     6276\n",
      "100    4890\n",
      "78     2359\n",
      "105    2169\n",
      "0      1861\n",
      "7      1853\n",
      "130    1455\n",
      "28     1333\n",
      "40     1079\n",
      "Name: count, dtype: int64\n",
      "rights_holder\n",
      "Justin Brown     21414\n",
      "Erin Boydston     1861\n",
      "Name: count, dtype: int64\n",
      "frame_num\n",
      "1    8878\n",
      "3    6993\n",
      "2    6970\n",
      "4     217\n",
      "5     217\n",
      "Name: count, dtype: int64\n",
      "seq_num_frames\n",
      "3    20331\n",
      "1     1861\n",
      "5     1083\n",
      "Name: count, dtype: int64\n",
      "height\n",
      "1494    21414\n",
      "1536     1198\n",
      "1920      663\n",
      "Name: count, dtype: int64\n",
      "width\n",
      "2048    22612\n",
      "2560      663\n",
      "Name: count, dtype: int64\n"
     ]
    }
   ],
   "source": [
    "df_images = pd.DataFrame.from_dict(data['images'])\n",
    "for col in ['location', 'rights_holder', 'frame_num', 'seq_num_frames', 'height', 'width']:\n",
    "    print(df_images[col].value_counts())"
   ]
  },
  {
   "cell_type": "code",
   "execution_count": 566,
   "metadata": {},
   "outputs": [],
   "source": [
    "!exit"
   ]
  },
  {
   "cell_type": "code",
   "execution_count": 112,
   "metadata": {},
   "outputs": [
    {
     "name": "stdout",
     "output_type": "stream",
     "text": [
      "category_id\n",
      "3     5719\n",
      "1     5529\n",
      "6     2375\n",
      "9     2348\n",
      "30    1778\n",
      "16    1512\n",
      "33    1113\n",
      "8     1057\n",
      "5     1052\n",
      "10     871\n",
      "7      333\n",
      "11     262\n",
      "99      62\n",
      "21      16\n",
      "51       1\n",
      "Name: count, dtype: int64\n"
     ]
    }
   ],
   "source": [
    "df_anno = pd.DataFrame.from_dict(data['annotations'])\n",
    "print(df_anno.category_id.value_counts(dropna=False))"
   ]
  },
  {
   "cell_type": "code",
   "execution_count": null,
   "metadata": {},
   "outputs": [],
   "source": []
  },
  {
   "cell_type": "markdown",
   "metadata": {},
   "source": [
    "# TV "
   ]
  },
  {
   "cell_type": "code",
   "execution_count": 153,
   "metadata": {},
   "outputs": [],
   "source": [
    "f = open(tv, 'r')\n",
    "data = json.load(f)"
   ]
  },
  {
   "cell_type": "code",
   "execution_count": 118,
   "metadata": {},
   "outputs": [
    {
     "name": "stdout",
     "output_type": "stream",
     "text": [
      "1725\n",
      "1865\n"
     ]
    }
   ],
   "source": [
    "print(len(data['images']))\n",
    "print(len(data['annotations']))"
   ]
  },
  {
   "cell_type": "code",
   "execution_count": 119,
   "metadata": {},
   "outputs": [
    {
     "name": "stdout",
     "output_type": "stream",
     "text": [
      "location\n",
      "125    1725\n",
      "Name: count, dtype: int64\n",
      "rights_holder\n",
      "Justin Brown    1725\n",
      "Name: count, dtype: int64\n",
      "frame_num\n",
      "1    581\n",
      "2    573\n",
      "3    571\n",
      "Name: count, dtype: int64\n",
      "seq_num_frames\n",
      "3    1725\n",
      "Name: count, dtype: int64\n"
     ]
    }
   ],
   "source": [
    "df_images = pd.DataFrame.from_dict(data['images'])\n",
    "for col in ['location', 'rights_holder', 'frame_num', 'seq_num_frames']:\n",
    "    print(df_images[col].value_counts())"
   ]
  },
  {
   "cell_type": "code",
   "execution_count": 120,
   "metadata": {},
   "outputs": [
    {
     "name": "stdout",
     "output_type": "stream",
     "text": [
      "category_id\n",
      "6     858\n",
      "1     444\n",
      "3     143\n",
      "8      96\n",
      "16     72\n",
      "10     70\n",
      "7      63\n",
      "30     61\n",
      "9      51\n",
      "11      7\n",
      "Name: count, dtype: int64\n"
     ]
    }
   ],
   "source": [
    "df_anno = pd.DataFrame.from_dict(data['annotations'])\n",
    "print(df_anno.category_id.value_counts(dropna=False))"
   ]
  },
  {
   "cell_type": "code",
   "execution_count": 121,
   "metadata": {},
   "outputs": [
    {
     "data": {
      "text/plain": [
       "(53.803, 32.853)"
      ]
     },
     "execution_count": 121,
     "metadata": {},
     "output_type": "execute_result"
    }
   ],
   "source": [
    "23 + 17.25 + 13.553, 15.8 + 3.5 + 13.553 "
   ]
  },
  {
   "cell_type": "markdown",
   "metadata": {},
   "source": [
    "* The dataset contains 5 sets \n",
    "- t training  \n",
    "- cv same validation \n",
    "- ct same test \n",
    "- tt different location than train and val\n",
    "- tv differnt location than train and test "
   ]
  },
  {
   "cell_type": "code",
   "execution_count": null,
   "metadata": {},
   "outputs": [],
   "source": []
  },
  {
   "cell_type": "markdown",
   "metadata": {},
   "source": [
    "# Anno Original "
   ]
  },
  {
   "cell_type": "code",
   "execution_count": 155,
   "metadata": {},
   "outputs": [],
   "source": [
    "f = open('../_data/' + 'caltech_images_20210113.json', 'r')\n",
    "data = json.load(f)"
   ]
  },
  {
   "cell_type": "code",
   "execution_count": 156,
   "metadata": {},
   "outputs": [
    {
     "data": {
      "text/plain": [
       "dict_keys(['images', 'annotations', 'categories', 'info'])"
      ]
     },
     "execution_count": 156,
     "metadata": {},
     "output_type": "execute_result"
    }
   ],
   "source": [
    "data.keys()"
   ]
  },
  {
   "cell_type": "code",
   "execution_count": 157,
   "metadata": {},
   "outputs": [
    {
     "data": {
      "text/plain": [
       "[{'name': 'bobcat', 'id': 6},\n",
       " {'name': 'opossum', 'id': 1},\n",
       " {'name': 'empty', 'id': 30},\n",
       " {'name': 'coyote', 'id': 9},\n",
       " {'name': 'raccoon', 'id': 3},\n",
       " {'name': 'bird', 'id': 11},\n",
       " {'name': 'dog', 'id': 8},\n",
       " {'name': 'cat', 'id': 16},\n",
       " {'name': 'squirrel', 'id': 5},\n",
       " {'name': 'rabbit', 'id': 10},\n",
       " {'name': 'skunk', 'id': 7},\n",
       " {'name': 'lizard', 'id': 14},\n",
       " {'name': 'rodent', 'id': 99},\n",
       " {'name': 'badger', 'id': 21},\n",
       " {'name': 'deer', 'id': 34},\n",
       " {'name': 'cow', 'id': 37},\n",
       " {'name': 'car', 'id': 33},\n",
       " {'name': 'fox', 'id': 51},\n",
       " {'name': 'pig', 'id': 39},\n",
       " {'name': 'mountain_lion', 'id': 40},\n",
       " {'name': 'bat', 'id': 66},\n",
       " {'name': 'insect', 'id': 97}]"
      ]
     },
     "execution_count": 157,
     "metadata": {},
     "output_type": "execute_result"
    }
   ],
   "source": [
    "data['categories']"
   ]
  },
  {
   "cell_type": "code",
   "execution_count": 159,
   "metadata": {},
   "outputs": [
    {
     "data": {
      "text/plain": [
       "{'year': 2018,\n",
       " 'contributor': 'Sara Beery',\n",
       " 'date_created': '2018-07-03 18:34:36.573636',\n",
       " 'version': '20210113',\n",
       " 'description': 'Caltech Camera Traps: Database of camera trap images collected from the NPS and the USGS with help from Justin Brown and Erin Boydston'}"
      ]
     },
     "execution_count": 159,
     "metadata": {},
     "output_type": "execute_result"
    }
   ],
   "source": [
    "data['info']"
   ]
  },
  {
   "cell_type": "code",
   "execution_count": 158,
   "metadata": {},
   "outputs": [
    {
     "name": "stdout",
     "output_type": "stream",
     "text": [
      "243100\n",
      "245118\n",
      "22\n"
     ]
    }
   ],
   "source": [
    "print(len(data['images']))\n",
    "print(len(data['annotations']))\n",
    "print(len(data['categories']))"
   ]
  },
  {
   "cell_type": "code",
   "execution_count": 545,
   "metadata": {},
   "outputs": [
    {
     "data": {
      "text/plain": [
       "({'seq_num_frames': 1,\n",
       "  'date_captured': '2013-10-04 13:31:53',\n",
       "  'seq_id': '6f2160eb-5567-11e8-990e-dca9047ef277',\n",
       "  'height': 1494,\n",
       "  'width': 2048,\n",
       "  'location': '26',\n",
       "  'rights_holder': 'Erin Boydston',\n",
       "  'file_name': '5968c0f9-23d2-11e8-a6a3-ec086b02610b.jpg',\n",
       "  'id': '5968c0f9-23d2-11e8-a6a3-ec086b02610b',\n",
       "  'frame_num': 1},\n",
       " {'id': '2ba4259e-7d70-11e7-884d-7845c41c2c67',\n",
       "  'category_id': 30,\n",
       "  'image_id': '595def20-23d2-11e8-a6a3-ec086b02610b'})"
      ]
     },
     "execution_count": 545,
     "metadata": {},
     "output_type": "execute_result"
    }
   ],
   "source": [
    "data['images'][0], data['annotations'][np.random.randint(1, 243000)] "
   ]
  },
  {
   "cell_type": "code",
   "execution_count": 548,
   "metadata": {},
   "outputs": [
    {
     "name": "stdout",
     "output_type": "stream",
     "text": [
      "location\n",
      "96     37766\n",
      "26     28670\n",
      "76     13979\n",
      "114    13157\n",
      "57     12805\n",
      "       ...  \n",
      "15         9\n",
      "47         8\n",
      "119        8\n",
      "139        4\n",
      "113        1\n",
      "Name: count, Length: 140, dtype: int64\n",
      "rights_holder\n",
      "Erin Boydston    147936\n",
      "Justin Brown      95164\n",
      "Name: count, dtype: int64\n",
      "frame_num\n",
      "1    179270\n",
      "3     31255\n",
      "2     31130\n",
      "4       723\n",
      "5       722\n",
      "Name: count, dtype: int64\n",
      "seq_num_frames\n",
      "1    147938\n",
      "3     91557\n",
      "5      3605\n",
      "Name: count, dtype: int64\n"
     ]
    }
   ],
   "source": [
    "df_images = pd.DataFrame.from_dict(data['images'])\n",
    "for col in ['location', 'rights_holder', 'frame_num', 'seq_num_frames']:\n",
    "    print(df_images[col].value_counts())"
   ]
  },
  {
   "cell_type": "code",
   "execution_count": 549,
   "metadata": {},
   "outputs": [
    {
     "name": "stdout",
     "output_type": "stream",
     "text": [
      "category_id\n",
      "30    125745\n",
      "1      16698\n",
      "9      16601\n",
      "10     12519\n",
      "34     12196\n",
      "3      11390\n",
      "11     10003\n",
      "6       8098\n",
      "16      5297\n",
      "33      4717\n",
      "8       4512\n",
      "5       4450\n",
      "99      4279\n",
      "37      3626\n",
      "51      2574\n",
      "7       1898\n",
      "14       309\n",
      "40       145\n",
      "21        50\n",
      "97         6\n",
      "66         3\n",
      "39         2\n",
      "Name: count, dtype: int64 \n",
      " count 22\n"
     ]
    }
   ],
   "source": [
    "df_anno = pd.DataFrame.from_dict(data['annotations'])\n",
    "print(df_anno.category_id.value_counts(dropna=False),  '\\n' , \"count\", len(df_anno.category_id.value_counts(dropna=False)))"
   ]
  },
  {
   "cell_type": "code",
   "execution_count": null,
   "metadata": {},
   "outputs": [],
   "source": []
  }
 ],
 "metadata": {
  "kernelspec": {
   "display_name": "env",
   "language": "python",
   "name": "python3"
  },
  "language_info": {
   "codemirror_mode": {
    "name": "ipython",
    "version": 3
   },
   "file_extension": ".py",
   "mimetype": "text/x-python",
   "name": "python",
   "nbconvert_exporter": "python",
   "pygments_lexer": "ipython3",
   "version": "3.12.1"
  }
 },
 "nbformat": 4,
 "nbformat_minor": 2
}
