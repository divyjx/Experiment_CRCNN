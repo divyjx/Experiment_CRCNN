{
 "cells": [
  {
   "cell_type": "code",
   "execution_count": null,
   "metadata": {},
   "outputs": [],
   "source": [
    "%matplotlib inline\n",
    "from pycocotools.coco import COCO\n",
    "import numpy as np\n",
    "\n",
    "# import skimage.io as io\n",
    "import matplotlib.pyplot as plt\n",
    "\n",
    "from PIL import Image, ImageFont, ImageDraw, ImageEnhance\n",
    "\n"
   ]
  },
  {
   "cell_type": "code",
   "execution_count": null,
   "metadata": {},
   "outputs": [
    {
     "name": "stdout",
     "output_type": "stream",
     "text": [
      "cis_test_annotations.json  trans_test_annotations.json\n",
      "cis_val_annotations.json   trans_val_annotations.json\n",
      "train_annotations.json\n"
     ]
    }
   ],
   "source": [
    "!ls ../_data/eccv_18_annotation_files/"
   ]
  },
  {
   "cell_type": "code",
   "execution_count": null,
   "metadata": {},
   "outputs": [],
   "source": [
    "annos = [\"cis_test\",\"trans_test\",\"cis_val\",\"trans_val\",\"train\"]\n",
    "atype = \"train\"\n",
    "imgDir = '../_data/eccv_18_all_images_sm/'\n",
    "annFile = '../_data/eccv_18_all_images_sm/%s_annotations.json'\n"
   ]
  },
  {
   "cell_type": "code",
   "execution_count": null,
   "metadata": {},
   "outputs": [
    {
     "name": "stdout",
     "output_type": "stream",
     "text": [
      "loading annotations into memory...\n",
      "Done (t=0.10s)\n",
      "creating index...\n",
      "index created!\n"
     ]
    }
   ],
   "source": [
    "coco = COCO(annFile % 'trans_test')"
   ]
  },
  {
   "cell_type": "code",
   "execution_count": null,
   "metadata": {},
   "outputs": [
    {
     "name": "stdout",
     "output_type": "stream",
     "text": [
      "{'bbox': [1546.24, 1162.24, 496.6400000000001, 320.0],\n",
      " 'category_id': 16,\n",
      " 'id': '4848',\n",
      " 'image_id': '5a27d8d5-23d2-11e8-a6a3-ec086b02610b'}\n"
     ]
    }
   ],
   "source": [
    "from pprint import pprint\n",
    "for key in coco.anns.keys():\n",
    "    pprint(coco.anns[key])\n",
    "    break"
   ]
  },
  {
   "cell_type": "code",
   "execution_count": null,
   "metadata": {},
   "outputs": [],
   "source": []
  },
  {
   "cell_type": "code",
   "execution_count": null,
   "metadata": {},
   "outputs": [
    {
     "name": "stdout",
     "output_type": "stream",
     "text": [
      "{'bbox': [1546.24, 1162.24, 496.6400000000001, 320.0],\n",
      " 'category_id': 16,\n",
      " 'id': '4848',\n",
      " 'image_id': '5a27d8d5-23d2-11e8-a6a3-ec086b02610b'}\n"
     ]
    }
   ],
   "source": [
    "from pprint import pprint\n",
    "for key in coco.anns.keys():\n",
    "    pprint(coco.anns[key])\n",
    "    break"
   ]
  },
  {
   "cell_type": "code",
   "execution_count": null,
   "metadata": {},
   "outputs": [
    {
     "data": {
      "text/plain": [
       "[6, 1, 30, 9, 3]"
      ]
     },
     "execution_count": 37,
     "metadata": {},
     "output_type": "execute_result"
    }
   ],
   "source": [
    "coco.getCatIds()[:5]"
   ]
  },
  {
   "cell_type": "code",
   "execution_count": null,
   "metadata": {},
   "outputs": [
    {
     "data": {
      "text/plain": [
       "[{'id': 6, 'name': 'bobcat'},\n",
       " {'id': 1, 'name': 'opossum'},\n",
       " {'id': 30, 'name': 'empty'},\n",
       " {'id': 9, 'name': 'coyote'},\n",
       " {'id': 3, 'name': 'raccoon'}]"
      ]
     },
     "execution_count": 38,
     "metadata": {},
     "output_type": "execute_result"
    }
   ],
   "source": [
    "coco.loadCats(coco.getCatIds())[:5]"
   ]
  },
  {
   "cell_type": "code",
   "execution_count": null,
   "metadata": {},
   "outputs": [
    {
     "name": "stdout",
     "output_type": "stream",
     "text": [
      "COCO categories: \n",
      "bobcat opossum empty coyote raccoon bird dog cat squirrel rabbit skunk rodent badger deer car fox\n",
      "\n"
     ]
    }
   ],
   "source": [
    "\n",
    "cats = coco.loadCats(coco.getCatIds())\n",
    "nms=[cat['name'] for cat in cats]\n",
    "print('COCO categories: \\n{}\\n'.format(' '.join(nms)))\n",
    "\n",
    "# nms = set([cat['supercategory'] for cat in cats])\n",
    "# print('COCO supercategories: \\n{}'.format(' '.join(nms)))"
   ]
  },
  {
   "cell_type": "code",
   "execution_count": null,
   "metadata": {},
   "outputs": [],
   "source": []
  },
  {
   "cell_type": "code",
   "execution_count": null,
   "metadata": {},
   "outputs": [
    {
     "data": {
      "text/plain": [
       "[{'image_id': '5a1cb0d8-23d2-11e8-a6a3-ec086b02610b',\n",
       "  'category_id': 1,\n",
       "  'bbox': [1149.44, 506.88, 158.72000000000003, 194.56000000000006],\n",
       "  'id': '24715'}]"
      ]
     },
     "execution_count": 84,
     "metadata": {},
     "output_type": "execute_result"
    }
   ],
   "source": [
    "anns"
   ]
  },
  {
   "cell_type": "code",
   "execution_count": null,
   "metadata": {},
   "outputs": [
    {
     "data": {
      "text/plain": [
       "{'file_name': '59f5fd4c-23d2-11e8-a6a3-ec086b02610b.jpg',\n",
       " 'rights_holder': 'Justin Brown',\n",
       " 'height': 1494,\n",
       " 'width': 2048,\n",
       " 'frame_num': 1,\n",
       " 'date_captured': '2011-06-30 20:35:17',\n",
       " 'location': 7,\n",
       " 'seq_num_frames': 3,\n",
       " 'seq_id': '6f06d7f0-5567-11e8-a464-dca9047ef277',\n",
       " 'id': '59f5fd4c-23d2-11e8-a6a3-ec086b02610b'}"
      ]
     },
     "execution_count": 51,
     "metadata": {},
     "output_type": "execute_result"
    }
   ],
   "source": [
    "im"
   ]
  },
  {
   "cell_type": "code",
   "execution_count": 3,
   "metadata": {},
   "outputs": [
    {
     "name": "stdout",
     "output_type": "stream",
     "text": [
      "Requirement already satisfied: opencv-python in /opt/conda/envs/env/lib/python3.12/site-packages (4.10.0.84)\n",
      "Requirement already satisfied: numpy>=1.21.2 in /home/codespace/.local/lib/python3.12/site-packages (from opencv-python) (2.1.1)\n"
     ]
    }
   ],
   "source": [
    "!pip install opencv-python"
   ]
  },
  {
   "cell_type": "code",
   "execution_count": 15,
   "metadata": {},
   "outputs": [
    {
     "name": "stdout",
     "output_type": "stream",
     "text": [
      "loading annotations into memory...\n",
      "Done (t=0.05s)\n",
      "creating index...\n",
      "index created!\n"
     ]
    }
   ],
   "source": [
    "import matplotlib.pyplot as plt\n",
    "# import cv2\n",
    "import numpy as np\n",
    "from pycocotools.coco import COCO\n",
    "from PIL import Image, ImageDraw\n",
    "\n",
    "# Path to your COCO annotation file and images directory\n",
    "annos = [\"cis_test\",\"trans_test\",\"cis_val\",\"trans_val\",\"train\"]\n",
    "atype = \"train\"\n",
    "imgDir = '../_data/eccv_18_all_images_sm/'\n",
    "annFile = '../_data/eccv_18_all_images_sm/%s_annotations.json'\n",
    "# Initialize COCO API\n",
    "coco = COCO(annFile % 'train')\n",
    "\n",
    "# selected_img_ids = coco.getImgIds()[:5]  # Example: first 5 image IDs\n",
    "# color_list = plt.cm.get_cmap(\"tab20\", 20).colors  # 20 color options for classes\n",
    "\n",
    "# # Set up the plot with subplots\n",
    "# fig, ax = plt.subplots(1, len(selected_img_ids), figsize=(15, 15))\n",
    "\n",
    "# # Iterate through selected images\n",
    "# for i, im in enumerate(selected_img_ids):\n",
    "#     image = Image.open(f\"{imgDir}{str(im)}.jpg\")\n",
    "#     ax[i].imshow(image)\n",
    "#     ax[i].axis('off')  # Hide axes\n",
    "\n",
    "#     # Get annotations for the image\n",
    "#     ann_ids = coco.getAnnIds(imgIds=im)\n",
    "#     annotations = coco.loadAnns(ann_ids)\n",
    "\n",
    "#     for ann in annotations:\n",
    "#         bbox = ann['bbox']\n",
    "#         # Convert to int coordinates for bounding box\n",
    "#         x, y, w, h = [int(coord) for coord in bbox]\n",
    "\n",
    "#         # Get class ID and name\n",
    "#         class_id = ann[\"category_id\"]\n",
    "#         class_name = coco.loadCats(class_id)[0][\"name\"]\n",
    "\n",
    "#         # Color for the bounding box\n",
    "#         color_ = color_list[class_id % len(color_list)]  # Ensure the index is within color range\n",
    "\n",
    "#         # Draw bounding box\n",
    "#         rect = plt.Rectangle((x, y), w, h, linewidth=2, edgecolor=color_, facecolor='none')\n",
    "#         ax[i].add_patch(rect)\n",
    "\n",
    "#         # Draw class name text\n",
    "#         t_box = ax[i].text(x, y, class_name, color='red', fontsize=10)\n",
    "#         t_box.set_bbox(dict(boxstyle='square,pad=0', facecolor='white', alpha=0.6, edgecolor='blue'))\n",
    "\n",
    "# # Show the final plot\n",
    "# plt.tight_layout()\n",
    "# plt.show()"
   ]
  },
  {
   "cell_type": "code",
   "execution_count": 16,
   "metadata": {},
   "outputs": [
    {
     "data": {
      "text/plain": [
       "'59ffbb81-23d2-11e8-a6a3-ec086b02610b'"
      ]
     },
     "execution_count": 16,
     "metadata": {},
     "output_type": "execute_result"
    }
   ],
   "source": [
    "str(im)"
   ]
  },
  {
   "cell_type": "code",
   "execution_count": null,
   "metadata": {},
   "outputs": [
    {
     "ename": "AttributeError",
     "evalue": "'COCO' object has no attribute 'get_annIds'",
     "output_type": "error",
     "traceback": [
      "\u001b[0;31m---------------------------------------------------------------------------\u001b[0m",
      "\u001b[0;31mAttributeError\u001b[0m                            Traceback (most recent call last)",
      "Cell \u001b[0;32mIn[18], line 15\u001b[0m\n\u001b[1;32m     12\u001b[0m img_ids \u001b[38;5;241m=\u001b[39m coco\u001b[38;5;241m.\u001b[39mgetImgIds()\n\u001b[1;32m     13\u001b[0m selected_img_ids \u001b[38;5;241m=\u001b[39m [img_ids[i] \u001b[38;5;28;01mfor\u001b[39;00m i \u001b[38;5;129;01min\u001b[39;00m sel_im_idxs]\n\u001b[0;32m---> 15\u001b[0m ann_ids \u001b[38;5;241m=\u001b[39m \u001b[43mcoco\u001b[49m\u001b[38;5;241;43m.\u001b[39;49m\u001b[43mget_annIds\u001b[49m(selected_img_ids)\n\u001b[1;32m     16\u001b[0m im_licenses \u001b[38;5;241m=\u001b[39m coco\u001b[38;5;241m.\u001b[39mget_imgLicenses(selected_img_ids)\n\u001b[1;32m     18\u001b[0m fig, ax \u001b[38;5;241m=\u001b[39m plt\u001b[38;5;241m.\u001b[39msubplots(nrows\u001b[38;5;241m=\u001b[39m\u001b[38;5;241m2\u001b[39m, ncols\u001b[38;5;241m=\u001b[39m\u001b[38;5;241m2\u001b[39m, figsize\u001b[38;5;241m=\u001b[39m(\u001b[38;5;241m15\u001b[39m,\u001b[38;5;241m10\u001b[39m))\n",
      "\u001b[0;31mAttributeError\u001b[0m: 'COCO' object has no attribute 'get_annIds'"
     ]
    }
   ],
   "source": [
    "import matplotlib.pyplot as plt\n",
    "from PIL import Image\n",
    "import numpy as np\n",
    "\n",
    "# define a list of colors for drawing bounding boxes\n",
    "color_list = [\"pink\", \"red\", \"teal\", \"blue\", \"orange\", \"yellow\", \"black\", \"magenta\",\"green\",\"aqua\"]*10\n",
    "\n",
    "num_imgs_to_disp = 4\n",
    "total_images = len(coco.getImgIds()) # total number of images\n",
    "sel_im_idxs = np.random.permutation(total_images)[:num_imgs_to_disp]\n",
    "\n",
    "img_ids = coco.getImgIds()\n",
    "selected_img_ids = [img_ids[i] for i in sel_im_idxs]\n",
    "\n",
    "ann_ids = coco.getAnnIds(selected_img_ids)\n",
    "# im_licenses = coco.get_imgLicenses(selected_img_ids)\n",
    "\n",
    "fig, ax = plt.subplots(nrows=2, ncols=2, figsize=(15,10))\n",
    "ax = ax.ravel()\n",
    "\n",
    "for i, im in enumerate(selected_img_ids):\n",
    "    image = Image.open(f\"{imgDir}/{str(im)}.jpg\")\n",
    "    ann_ids = coco.getAnnIds(im)\n",
    "    annotations = coco.load_anns(ann_ids)\n",
    "    for ann in annotations:\n",
    "        bbox = ann['bbox']\n",
    "        x, y, w, h = [int(b) for b in bbox]\n",
    "        class_id = ann[\"category_id\"]\n",
    "        class_name = coco.load_cats(class_id)[0][\"name\"]\n",
    "        # license = coco.get_imgLicenses(im)[0][\"name\"]\n",
    "        color_ = color_list[class_id]\n",
    "        rect = plt.Rectangle((x, y), w, h, linewidth=2, edgecolor=color_, facecolor='none')\n",
    "\n",
    "        t_box=ax[i].text(x, y, class_name,  color='red', fontsize=10)\n",
    "        t_box.set_bbox(dict(boxstyle='square, pad=0',facecolor='white', alpha=0.6, edgecolor='blue'))\n",
    "        ax[i].add_patch(rect)\n",
    "    \n",
    "\n",
    "    ax[i].axis('off')\n",
    "    ax[i].imshow(image)\n",
    "    ax[i].set_xlabel('Longitude')\n",
    "    ax[i].set_title(f\"License: {license}\")\n",
    "\n",
    "plt.tight_layout()\n",
    "plt.show()"
   ]
  },
  {
   "cell_type": "code",
   "execution_count": null,
   "metadata": {},
   "outputs": [],
   "source": []
  }
 ],
 "metadata": {
  "kernelspec": {
   "display_name": "env",
   "language": "python",
   "name": "python3"
  },
  "language_info": {
   "codemirror_mode": {
    "name": "ipython",
    "version": 3
   },
   "file_extension": ".py",
   "mimetype": "text/x-python",
   "name": "python",
   "nbconvert_exporter": "python",
   "pygments_lexer": "ipython3",
   "version": "3.12.1"
  }
 },
 "nbformat": 4,
 "nbformat_minor": 2
}
