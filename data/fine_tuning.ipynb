{
 "cells": [
  {
   "cell_type": "code",
   "execution_count": null,
   "metadata": {},
   "outputs": [],
   "source": [
    "%matplotlib inline\n",
    "from pycocotools.coco import COCO\n",
    "import numpy as np\n",
    "\n",
    "# import skimage.io as io\n",
    "import matplotlib.pyplot as plt\n",
    "\n",
    "from PIL import Image, ImageFont, ImageDraw, ImageEnhance\n",
    "\n"
   ]
  },
  {
   "cell_type": "code",
   "execution_count": null,
   "metadata": {},
   "outputs": [
    {
     "name": "stdout",
     "output_type": "stream",
     "text": [
      "cis_test_annotations.json  trans_test_annotations.json\n",
      "cis_val_annotations.json   trans_val_annotations.json\n",
      "train_annotations.json\n"
     ]
    }
   ],
   "source": [
    "!ls ../_data/eccv_18_annotation_files/"
   ]
  },
  {
   "cell_type": "code",
   "execution_count": null,
   "metadata": {},
   "outputs": [],
   "source": [
    "annos = [\"cis_test\",\"trans_test\",\"cis_val\",\"trans_val\",\"train\"]\n",
    "atype = \"train\"\n",
    "imgDir = '../_data/eccv_18_all_images_sm/'\n",
    "annFile = '../_data/eccv_18_all_images_sm/%s_annotations.json'\n"
   ]
  },
  {
   "cell_type": "code",
   "execution_count": null,
   "metadata": {},
   "outputs": [
    {
     "name": "stdout",
     "output_type": "stream",
     "text": [
      "loading annotations into memory...\n",
      "Done (t=0.10s)\n",
      "creating index...\n",
      "index created!\n"
     ]
    }
   ],
   "source": [
    "coco = COCO(annFile % 'trans_test')"
   ]
  },
  {
   "cell_type": "code",
   "execution_count": null,
   "metadata": {},
   "outputs": [
    {
     "name": "stdout",
     "output_type": "stream",
     "text": [
      "{'bbox': [1546.24, 1162.24, 496.6400000000001, 320.0],\n",
      " 'category_id': 16,\n",
      " 'id': '4848',\n",
      " 'image_id': '5a27d8d5-23d2-11e8-a6a3-ec086b02610b'}\n"
     ]
    }
   ],
   "source": [
    "from pprint import pprint\n",
    "for key in coco.anns.keys():\n",
    "    pprint(coco.anns[key])\n",
    "    break"
   ]
  },
  {
   "cell_type": "code",
   "execution_count": null,
   "metadata": {},
   "outputs": [],
   "source": []
  },
  {
   "cell_type": "code",
   "execution_count": null,
   "metadata": {},
   "outputs": [
    {
     "name": "stdout",
     "output_type": "stream",
     "text": [
      "{'bbox': [1546.24, 1162.24, 496.6400000000001, 320.0],\n",
      " 'category_id': 16,\n",
      " 'id': '4848',\n",
      " 'image_id': '5a27d8d5-23d2-11e8-a6a3-ec086b02610b'}\n"
     ]
    }
   ],
   "source": [
    "from pprint import pprint\n",
    "for key in coco.anns.keys():\n",
    "    pprint(coco.anns[key])\n",
    "    break"
   ]
  },
  {
   "cell_type": "code",
   "execution_count": null,
   "metadata": {},
   "outputs": [
    {
     "data": {
      "text/plain": [
       "[6, 1, 30, 9, 3]"
      ]
     },
     "execution_count": 37,
     "metadata": {},
     "output_type": "execute_result"
    }
   ],
   "source": [
    "coco.getCatIds()[:5]"
   ]
  },
  {
   "cell_type": "code",
   "execution_count": null,
   "metadata": {},
   "outputs": [
    {
     "data": {
      "text/plain": [
       "[{'id': 6, 'name': 'bobcat'},\n",
       " {'id': 1, 'name': 'opossum'},\n",
       " {'id': 30, 'name': 'empty'},\n",
       " {'id': 9, 'name': 'coyote'},\n",
       " {'id': 3, 'name': 'raccoon'}]"
      ]
     },
     "execution_count": 38,
     "metadata": {},
     "output_type": "execute_result"
    }
   ],
   "source": [
    "coco.loadCats(coco.getCatIds())[:5]"
   ]
  },
  {
   "cell_type": "code",
   "execution_count": null,
   "metadata": {},
   "outputs": [
    {
     "name": "stdout",
     "output_type": "stream",
     "text": [
      "COCO categories: \n",
      "bobcat opossum empty coyote raccoon bird dog cat squirrel rabbit skunk rodent badger deer car fox\n",
      "\n"
     ]
    }
   ],
   "source": [
    "\n",
    "cats = coco.loadCats(coco.getCatIds())\n",
    "nms=[cat['name'] for cat in cats]\n",
    "print('COCO categories: \\n{}\\n'.format(' '.join(nms)))\n",
    "\n",
    "# nms = set([cat['supercategory'] for cat in cats])\n",
    "# print('COCO supercategories: \\n{}'.format(' '.join(nms)))"
   ]
  },
  {
   "cell_type": "code",
   "execution_count": null,
   "metadata": {},
   "outputs": [],
   "source": []
  },
  {
   "cell_type": "code",
   "execution_count": null,
   "metadata": {},
   "outputs": [
    {
     "data": {
      "text/plain": [
       "[{'image_id': '5a1cb0d8-23d2-11e8-a6a3-ec086b02610b',\n",
       "  'category_id': 1,\n",
       "  'bbox': [1149.44, 506.88, 158.72000000000003, 194.56000000000006],\n",
       "  'id': '24715'}]"
      ]
     },
     "execution_count": 84,
     "metadata": {},
     "output_type": "execute_result"
    }
   ],
   "source": [
    "anns"
   ]
  },
  {
   "cell_type": "code",
   "execution_count": null,
   "metadata": {},
   "outputs": [
    {
     "data": {
      "text/plain": [
       "{'file_name': '59f5fd4c-23d2-11e8-a6a3-ec086b02610b.jpg',\n",
       " 'rights_holder': 'Justin Brown',\n",
       " 'height': 1494,\n",
       " 'width': 2048,\n",
       " 'frame_num': 1,\n",
       " 'date_captured': '2011-06-30 20:35:17',\n",
       " 'location': 7,\n",
       " 'seq_num_frames': 3,\n",
       " 'seq_id': '6f06d7f0-5567-11e8-a464-dca9047ef277',\n",
       " 'id': '59f5fd4c-23d2-11e8-a6a3-ec086b02610b'}"
      ]
     },
     "execution_count": 51,
     "metadata": {},
     "output_type": "execute_result"
    }
   ],
   "source": [
    "im"
   ]
  },
  {
   "cell_type": "code",
   "execution_count": null,
   "metadata": {},
   "outputs": [
    {
     "data": {
      "text/plain": [
       "[{'id': 1, 'name': 'opossum'}]"
      ]
     },
     "execution_count": 81,
     "metadata": {},
     "output_type": "execute_result"
    }
   ],
   "source": [
    "!pip install opencv-python"
   ]
  },
  {
   "cell_type": "code",
   "execution_count": 1,
   "metadata": {},
   "outputs": [
    {
     "ename": "ModuleNotFoundError",
     "evalue": "No module named 'cv2'",
     "output_type": "error",
     "traceback": [
      "\u001b[0;31m---------------------------------------------------------------------------\u001b[0m",
      "\u001b[0;31mModuleNotFoundError\u001b[0m                       Traceback (most recent call last)",
      "Cell \u001b[0;32mIn[1], line 2\u001b[0m\n\u001b[1;32m      1\u001b[0m \u001b[38;5;28;01mimport\u001b[39;00m \u001b[38;5;21;01mmatplotlib\u001b[39;00m\u001b[38;5;21;01m.\u001b[39;00m\u001b[38;5;21;01mpyplot\u001b[39;00m \u001b[38;5;28;01mas\u001b[39;00m \u001b[38;5;21;01mplt\u001b[39;00m\n\u001b[0;32m----> 2\u001b[0m \u001b[38;5;28;01mimport\u001b[39;00m \u001b[38;5;21;01mcv2\u001b[39;00m\n\u001b[1;32m      3\u001b[0m \u001b[38;5;28;01mimport\u001b[39;00m \u001b[38;5;21;01mnumpy\u001b[39;00m \u001b[38;5;28;01mas\u001b[39;00m \u001b[38;5;21;01mnp\u001b[39;00m\n\u001b[1;32m      4\u001b[0m \u001b[38;5;28;01mfrom\u001b[39;00m \u001b[38;5;21;01mpycocotools\u001b[39;00m\u001b[38;5;21;01m.\u001b[39;00m\u001b[38;5;21;01mcoco\u001b[39;00m \u001b[38;5;28;01mimport\u001b[39;00m COCO\n",
      "\u001b[0;31mModuleNotFoundError\u001b[0m: No module named 'cv2'"
     ]
    }
   ],
   "source": [
    "import matplotlib.pyplot as plt\n",
    "import cv2\n",
    "import numpy as np\n",
    "from pycocotools.coco import COCO\n",
    "from PIL import Image, ImageDraw\n",
    "\n",
    "# Path to your COCO annotation file and images directory\n",
    "annos = [\"cis_test\",\"trans_test\",\"cis_val\",\"trans_val\",\"train\"]\n",
    "atype = \"train\"\n",
    "imgDir = '../_data/eccv_18_all_images_sm/'\n",
    "annFile = '../_data/eccv_18_all_images_sm/%s_annotations.json'\n",
    "# Initialize COCO API\n",
    "coco = COCO(annFile % 'train')\n",
    "\n",
    "# Function to display image with bounding boxes\n",
    "def plot_image_with_bboxes(image_id):\n",
    "    # Load image information\n",
    "    image_info = coco.loadImgs(image_id)[0]\n",
    "    image_path = f\"{images_dir}{image_info['file_name']}\"\n",
    "    \n",
    "    # Load the image\n",
    "    image = Image.open(image_path).convert(\"RGB\")\n",
    "    draw = ImageDraw.Draw(image)\n",
    "\n",
    "    # Get all annotations for the specified image\n",
    "    annotation_ids = coco.getAnnIds(imgIds=image_id)\n",
    "    annotations = coco.loadAnns(annotation_ids)\n",
    "\n",
    "    # Loop through each annotation and draw the bounding box\n",
    "    for ann in annotations:\n",
    "        # Extract bounding box coordinates (x, y, width, height)\n",
    "        bbox = ann['bbox']\n",
    "        x, y, w, h = bbox\n",
    "\n",
    "        # Draw the bounding box\n",
    "        draw.rectangle([x, y, x + w, y + h], outline='red', width=2)\n",
    "        \n",
    "        # Optionally, display the category name\n",
    "        category_id = ann['category_id']\n",
    "        category_name = coco.loadCats(category_id)[0]['name']\n",
    "        draw.text((x, y), category_name, fill='red')\n",
    "\n",
    "    # Display the image\n",
    "    plt.figure(figsize=(8, 8))\n",
    "    plt.imshow(np.array(image))\n",
    "    plt.axis('off')\n",
    "    plt.show()\n",
    "\n",
    "# Example usage with the first image ID\n",
    "image_ids = coco.getImgIds()\n",
    "plot_image_with_bboxes(image_ids[0])\n"
   ]
  }
 ],
 "metadata": {
  "kernelspec": {
   "display_name": "env",
   "language": "python",
   "name": "python3"
  },
  "language_info": {
   "codemirror_mode": {
    "name": "ipython",
    "version": 3
   },
   "file_extension": ".py",
   "mimetype": "text/x-python",
   "name": "python",
   "nbconvert_exporter": "python",
   "pygments_lexer": "ipython3",
   "version": "3.12.1"
  }
 },
 "nbformat": 4,
 "nbformat_minor": 2
}
